{
 "cells": [
  {
   "cell_type": "markdown",
   "id": "d8fa6f98",
   "metadata": {},
   "source": [
    "# REFI MAULANA ASLAM (201931073)"
   ]
  },
  {
   "cell_type": "markdown",
   "id": "affb296a",
   "metadata": {},
   "source": [
    "# Import Library"
   ]
  },
  {
   "cell_type": "code",
   "execution_count": 1,
   "id": "cd54713a",
   "metadata": {},
   "outputs": [],
   "source": [
    "import cv2\n",
    "import numpy as np\n",
    "from matplotlib import pyplot as plt"
   ]
  },
  {
   "cell_type": "code",
   "execution_count": 8,
   "id": "9ec0e1bc",
   "metadata": {},
   "outputs": [],
   "source": [
    "bunga = cv2.imread(\"asset/bunga.jpg\",0)\n",
    "tinggi, lebar = bunga.shape"
   ]
  },
  {
   "cell_type": "code",
   "execution_count": 10,
   "id": "2b0db9f0",
   "metadata": {},
   "outputs": [],
   "source": [
    "cv2.imshow(\"bunga.jpg\", bunga)\n",
    "cv2.waitKey(0)\n",
    "cv2.destroyAllWindows()"
   ]
  },
  {
   "cell_type": "markdown",
   "id": "32c39fe2",
   "metadata": {},
   "source": [
    "## Pengambangan Dwi Aras dengan perkiraan nilai ambang"
   ]
  },
  {
   "cell_type": "code",
   "execution_count": 14,
   "id": "263c4ca0",
   "metadata": {},
   "outputs": [],
   "source": [
    "nilai_ambang = 128\n",
    "bunga_hasil = bunga.copy()\n",
    "for x in range (tinggi):\n",
    "    for y in range(lebar):\n",
    "        if bunga[x,y] < nilai_ambang :\n",
    "            bunga_hasil[x,y] = 0\n",
    "        else:\n",
    "            bunga_hasil[x,y] = 255"
   ]
  },
  {
   "cell_type": "code",
   "execution_count": 15,
   "id": "e17b0ec1",
   "metadata": {},
   "outputs": [],
   "source": [
    "cv2.imshow(\"Aras Bunga\", daun_hasil)\n",
    "cv2.waitKey(0)\n",
    "cv2.destroyAllWindows()"
   ]
  },
  {
   "cell_type": "markdown",
   "id": "26d3e792",
   "metadata": {},
   "source": [
    "## Menentukan nilai ambang suatu gambar"
   ]
  },
  {
   "cell_type": "code",
   "execution_count": 16,
   "id": "e747deae",
   "metadata": {},
   "outputs": [],
   "source": [
    "def titeratif(image) :\n",
    "    tinggi, lebar = image.shape\n",
    "    t0 = 127\n",
    "    while(True) :\n",
    "        rata_kiri = 0;\n",
    "        rata_kanan = 0;\n",
    "        jum_kiri = 0;\n",
    "        jum_kanan = 0;\n",
    "        for x in range(tinggi):\n",
    "            for y in range(lebar):\n",
    "                if(image[x,y] <= 127) :\n",
    "                    rata_kiri = rata_kiri + image[x,y]\n",
    "                    jum_kiri = jum_kiri + 1\n",
    "                else :\n",
    "                    rata_kanan = rata_kanan + image[x,y]\n",
    "                    jum_kanan = jum_kanan + 1\n",
    "    \n",
    "        rata_kiri = rata_kiri / jum_kiri\n",
    "        rata_kanan = rata_kanan / jum_kanan\n",
    "        t1 = (rata_kiri + rata_kanan) / 2\n",
    "        if ((t0 - t1) < 1) :\n",
    "            break\n",
    "        t0 = t1\n",
    "    return round(t1)"
   ]
  },
  {
   "cell_type": "code",
   "execution_count": 17,
   "id": "0e67f9a6",
   "metadata": {},
   "outputs": [
    {
     "data": {
      "text/plain": [
       "111"
      ]
     },
     "execution_count": 17,
     "metadata": {},
     "output_type": "execute_result"
    }
   ],
   "source": [
    "titeratif(bunga) "
   ]
  },
  {
   "cell_type": "code",
   "execution_count": null,
   "id": "2f694cf8",
   "metadata": {},
   "outputs": [],
   "source": []
  }
 ],
 "metadata": {
  "kernelspec": {
   "display_name": "Python 3 (ipykernel)",
   "language": "python",
   "name": "python3"
  },
  "language_info": {
   "codemirror_mode": {
    "name": "ipython",
    "version": 3
   },
   "file_extension": ".py",
   "mimetype": "text/x-python",
   "name": "python",
   "nbconvert_exporter": "python",
   "pygments_lexer": "ipython3",
   "version": "3.9.13"
  }
 },
 "nbformat": 4,
 "nbformat_minor": 5
}
